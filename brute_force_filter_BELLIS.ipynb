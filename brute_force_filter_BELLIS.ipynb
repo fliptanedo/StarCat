{
 "cells": [
  {
   "cell_type": "code",
   "execution_count": null,
   "metadata": {
    "collapsed": true
   },
   "outputs": [],
   "source": [
    "import numpy as np\n",
    "import matplotlib.pylab as plt\n",
    "\n",
    "%matplotlib notebook"
   ]
  },
  {
   "cell_type": "code",
   "execution_count": null,
   "metadata": {
    "collapsed": true
   },
   "outputs": [],
   "source": [
    "fsize = 16 # fsize\n",
    "fsized2 = int(fsize/2)\n",
    "\n",
    "cat = np.zeros((fsize,fsize))\n",
    "\n",
    "\n",
    "# Draw a circle\n",
    "# Radius\n",
    "r = 5\n",
    "r2 = r*r\n",
    "window = r/1.3\n",
    "# Where is the center\n",
    "x0 = fsized2\n",
    "y0 = fsized2\n",
    "print(x0,y0)\n",
    "\n",
    "for i in range(fsize):\n",
    "    for j in range(fsize):\n",
    "        dx = i-x0\n",
    "        dy = j-y0\n",
    "        dist = dx*dx + dy*dy\n",
    "        #print(dist-r2)\n",
    "        \n",
    "        if abs(dist)<r2+window and abs(dist)>r2-window:\n",
    "            cat[j][i] = 1\n",
    "\n",
    "\n",
    "plt.figure()\n",
    "plt.imshow(cat)\n",
    "#cat"
   ]
  },
  {
   "cell_type": "code",
   "execution_count": null,
   "metadata": {
    "collapsed": true
   },
   "outputs": [],
   "source": [
    "imsize = 256\n",
    "\n",
    "data = np.zeros((imsize,imsize))\n",
    "\n",
    "vals = np.arange(0,imsize,1)\n",
    "\n",
    "np.random.shuffle(vals)\n",
    "starx = np.random.randint(0,imsize,10000)\n",
    "\n",
    "np.random.shuffle(vals)\n",
    "stary = np.random.randint(0,imsize,10000)\n",
    "\n",
    "\n",
    "for a,b in zip(starx,stary):\n",
    "    data[a][b] = 1\n",
    "\n",
    "#data\n",
    "plt.figure()\n",
    "plt.imshow(data)"
   ]
  },
  {
   "cell_type": "code",
   "execution_count": null,
   "metadata": {
    "collapsed": true
   },
   "outputs": [],
   "source": [
    "# Move the filter around\n",
    "goodvals = []\n",
    "for i in range(fsized2,imsize-fsize):\n",
    "    for j in range(fsized2,imsize-fsize):\n",
    "        total = (cat*data[i:i+fsize,j:j+fsize]).sum()\n",
    "        if total>7:\n",
    "            goodvals.append((i,j))\n",
    "goodvals = np.array(goodvals)        "
   ]
  },
  {
   "cell_type": "code",
   "execution_count": null,
   "metadata": {
    "collapsed": true
   },
   "outputs": [],
   "source": [
    "len(goodvals)"
   ]
  },
  {
   "cell_type": "code",
   "execution_count": null,
   "metadata": {
    "collapsed": true,
    "scrolled": false
   },
   "outputs": [],
   "source": [
    "plt.figure()\n",
    "plt.imshow(data)\n",
    "for center in goodvals:\n",
    "    ccx = center[0]\n",
    "    ccy = center[1]\n",
    "    \n",
    "    x = np.linspace(ccx-fsized2,ccx+fsized2,25)\n",
    "    yp = np.sqrt(r2-(x-ccx)**2) + ccy\n",
    "    ym = -np.sqrt(r2-(x-ccx)**2) + ccy\n",
    "\n",
    "    plt.plot(x,yp,'y-')\n",
    "    plt.plot(x,ym,'y-')\n",
    "\n",
    "    plt.plot(goodvals.transpose()[0],goodvals.transpose()[1],'r.')"
   ]
  },
  {
   "cell_type": "code",
   "execution_count": null,
   "metadata": {
    "collapsed": true
   },
   "outputs": [],
   "source": []
  }
 ],
 "metadata": {
  "kernelspec": {
   "display_name": "Python 3",
   "language": "python",
   "name": "python3"
  },
  "language_info": {
   "codemirror_mode": {
    "name": "ipython",
    "version": 3
   },
   "file_extension": ".py",
   "mimetype": "text/x-python",
   "name": "python",
   "nbconvert_exporter": "python",
   "pygments_lexer": "ipython3",
   "version": "3.6.3"
  }
 },
 "nbformat": 4,
 "nbformat_minor": 2
}
