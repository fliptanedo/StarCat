{
 "cells": [
  {
   "cell_type": "code",
   "execution_count": 1,
   "metadata": {
    "collapsed": true
   },
   "outputs": [],
   "source": [
    "import csv\n",
    "import matplotlib.pyplot as plt\n",
    "import math"
   ]
  },
  {
   "cell_type": "code",
   "execution_count": 2,
   "metadata": {
    "collapsed": true
   },
   "outputs": [],
   "source": [
    "# Load in data\n",
    "filename = r'C:\\Users\\Syris Norelli\\Documents\\HYG_Data\\hygdata_v3.csv'\n",
    "with open(filename, newline = '') as csvfile:\n",
    "    iterator = csv.reader(csvfile, delimiter=',', quotechar='|')\n",
    "    full_arr = [row for row in iterator][1:] # The first thing is just the \"how to read\""
   ]
  },
  {
   "cell_type": "code",
   "execution_count": null,
   "metadata": {
    "collapsed": true
   },
   "outputs": [],
   "source": [
    "# Print data info\n",
    "print('Number of stars: ' + str(len(full_arr)))\n",
    "print('Number of data points per star: ' + str(len(full_arr[0])))\n",
    "print('Interesting indexes per star:')\n",
    "print('0: ID in master database. We use this to collaborate with #team-stars.')\n",
    "print('6: Proper name of star (if any)')\n",
    "print('7: Right ascension')\n",
    "print('8: Declination')\n",
    "print('9: Distance in parsecs')\n",
    "print('13: Magnitude (Earth-frame). 6.5 is the naked eye limit.')\n",
    "print('14: Absolute magnitude (standard distance of 40 parsecs from star in question)')\n",
    "print('15: Star spectrum')\n",
    "print('17, 18, and 19: x,y,z variables of star')\n",
    "print('29: Constellation address')"
   ]
  },
  {
   "cell_type": "code",
   "execution_count": 3,
   "metadata": {
    "collapsed": true
   },
   "outputs": [],
   "source": [
    "# Useful names for later\n",
    "proper_stars = [x for x in full_arr if x[6] != ''] # All named stars (146 stars)\n",
    "naked_eye = [x for x in full_arr if float(x[13]) <= 6.5] # All naked-eye visible stars (8913 stars)\n",
    "# (Full_arr has 119614 stars.)"
   ]
  },
  {
   "cell_type": "code",
   "execution_count": null,
   "metadata": {
    "collapsed": true
   },
   "outputs": [],
   "source": [
    "# Plotting where x/y is directly equal to phi/theta\n",
    "to_plot = naked_eye\n",
    "\n",
    "setting = 'full_sky' # Subset or full_sky\n",
    "\n",
    "plt.clf()\n",
    "plt.scatter([float(x[7]) for x in to_plot],[float(x[8]) for x in to_plot])\n",
    "if setting == 'full_sky':\n",
    "    plt.axis([0,24,-90,90])\n",
    "if setting == 'subset':\n",
    "    plt.axis([5,10,-50,0])\n",
    "plt.show()\n",
    "\n",
    "# The below isn't any sort of projection; it's simply mapping out the spherical coordinates in cartesian coordinates.\n",
    "# This is why using techniques to quantify distortion won't work on this particular mapping."
   ]
  },
  {
   "cell_type": "code",
   "execution_count": null,
   "metadata": {
    "collapsed": true
   },
   "outputs": [],
   "source": [
    "# Cell currently not working\n",
    "\n",
    "# Stereographic Projection from Scratch\n",
    "plt.clf()\n",
    "spherical_data = [[float(x[7])*15,float(x[8]),x[6]] for x in naked_eye]\n",
    "spherized = [[math.cos(x[0])*math.cos(x[1]),math.sin(x[0])*math.cos(x[1]),math.sin(x[1]),x[2]] for x in spherical_data]\n",
    "# Sanity check for data; all these points should be ~1\n",
    "# print('Highest x: ' + str(max([x[0] for x in stereographed])))\n",
    "# print('Highest y: ' + str(max([x[1] for x in stereographed])))\n",
    "# print('Highest z: ' + str(max([x[2] for x in stereographed])))\n",
    "threed = plt.scatter([x[0] for x in spherized],[x[1] for x in spherized],[x[2] for x in spherized])\n",
    "plt.show()\n",
    "# Not sure where runtime error is coming from\n",
    "# Now for the stereographic bit\n",
    "plt.clf()\n",
    "stereographed = [[x[0]/(1-x[2]),x[1]/(1-x[2])] for x in spherized]\n",
    "plt.scatter([x[0] for x in stereographed],[x[1] for x in stereographed])\n",
    "plt.axis([-1000,1000,-2000,2000])\n",
    "plt.show()"
   ]
  }
 ],
 "metadata": {
  "anaconda-cloud": {},
  "kernelspec": {
   "display_name": "Python [conda root]",
   "language": "python",
   "name": "conda-root-py"
  },
  "language_info": {
   "codemirror_mode": {
    "name": "ipython",
    "version": 3
   },
   "file_extension": ".py",
   "mimetype": "text/x-python",
   "name": "python",
   "nbconvert_exporter": "python",
   "pygments_lexer": "ipython3",
   "version": "3.5.2"
  }
 },
 "nbformat": 4,
 "nbformat_minor": 1
}
