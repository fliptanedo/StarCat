{
 "cells": [
  {
   "cell_type": "code",
   "execution_count": null,
   "metadata": {
    "collapsed": true
   },
   "outputs": [],
   "source": [
    "import numpy as np\n",
    "import matplotlib.pylab as plt\n",
    "\n",
    "#from scipy import ndimage,misc\n",
    "\n",
    "import os, sys\n",
    "from PIL import Image\n",
    "\n",
    "import cat_tools as ct\n",
    "\n",
    "\n",
    "%matplotlib notebook"
   ]
  },
  {
   "cell_type": "code",
   "execution_count": null,
   "metadata": {
    "collapsed": true
   },
   "outputs": [],
   "source": [
    "infilename = 'cat.png'\n",
    "img = Image.open(infilename)"
   ]
  },
  {
   "cell_type": "code",
   "execution_count": null,
   "metadata": {},
   "outputs": [],
   "source": [
    "img.size"
   ]
  },
  {
   "cell_type": "code",
   "execution_count": null,
   "metadata": {},
   "outputs": [],
   "source": [
    "filter_images = ct.many_filters(img,nrotations=8,nsizes=32)"
   ]
  },
  {
   "cell_type": "code",
   "execution_count": null,
   "metadata": {},
   "outputs": [],
   "source": [
    "len(filter_images)"
   ]
  },
  {
   "cell_type": "code",
   "execution_count": null,
   "metadata": {},
   "outputs": [],
   "source": [
    "plt.figure()\n",
    "plt.imshow(filter_images[0],cmap='Greys')\n",
    "plt.savefig(\"catfilter.png\")"
   ]
  },
  {
   "cell_type": "code",
   "execution_count": null,
   "metadata": {
    "scrolled": false
   },
   "outputs": [],
   "source": [
    "#'''\n",
    "plt.figure(figsize=(12,12))\n",
    "for i in range(192,256):\n",
    "    plt.subplot(8,8,i-191)\n",
    "    plt.imshow(filter_images[i],cmap=\"Greys\")\n",
    "\n",
    "plt.tight_layout()\n",
    "plt.savefig('allthefilters_003.png',bbox_inches='tight')\n",
    "#'''"
   ]
  },
  {
   "cell_type": "code",
   "execution_count": null,
   "metadata": {},
   "outputs": [],
   "source": [
    "# Generate some fake sky\n",
    "#stars = ct.fake_sky(512,1000)\n",
    "nbins = 256\n",
    "pts,stars = ct.get_real_data('/home/bellis/Downloads/hygdata_v3.csv',nbins)\n",
    "\n",
    "plt.figure()\n",
    "plt.imshow(stars,cmap='Greys')\n",
    "\n",
    "plt.figure()\n",
    "plt.plot(pts[0],nbins-pts[1],'.',markersize=1)\n"
   ]
  },
  {
   "cell_type": "code",
   "execution_count": null,
   "metadata": {},
   "outputs": [],
   "source": [
    "filter_images[0].shape"
   ]
  },
  {
   "cell_type": "code",
   "execution_count": null,
   "metadata": {
    "scrolled": false
   },
   "outputs": [],
   "source": [
    "# Move the filter around\n",
    "goodvals = []\n",
    "\n",
    "for count,cat_filter in enumerate(filter_images[128:]):\n",
    "    \n",
    "    if cat_filter.size < 512:\n",
    "        print(\"breaking\")\n",
    "        break\n",
    "        \n",
    "    #cat_filter = filter_images[10]\n",
    "    if count%5==0:\n",
    "        print(\"count: \",count)\n",
    "        \n",
    "    h,w = cat_filter.shape[0:2]\n",
    "    #print(h,w)\n",
    "\n",
    "    skyh,skyw = stars.shape[0:2]\n",
    "    #print(skyh,skyw)\n",
    "\n",
    "\n",
    "    totmax = 135\n",
    "    for i in range(0,skyh-h):\n",
    "        #print(i,skyh-h)\n",
    "        for j in range(0,skyw-w):\n",
    "            #print(i,i+h,j,j+w)\n",
    "\n",
    "            subset = stars[i:i+h,j:j+w]\n",
    "            total = (cat_filter*subset).sum()\n",
    "            if total>totmax:\n",
    "                totmax = total\n",
    "                print(\"Totmax: \",totmax)\n",
    "                \n",
    "            if total>135:#cat_filter.size/50 + 3:\n",
    "                goodvals.append([(i,j),cat_filter.copy(),subset.copy()])\n",
    "                print(\"found 1! \", total)\n",
    "                print(cat_filter.size)#,cat_filter.size/50.0 + 3)\n",
    "                #print(cat_filter)\n",
    "                '''\n",
    "                for x in cat_filter:\n",
    "                    for y in x:\n",
    "                        if y>0:\n",
    "                            print(y)\n",
    "                '''\n",
    "#goodvals = np.array(goodvals) \n",
    "print(len(goodvals))"
   ]
  },
  {
   "cell_type": "code",
   "execution_count": null,
   "metadata": {
    "scrolled": false
   },
   "outputs": [],
   "source": [
    "plt.figure()\n",
    "plt.imshow(goodvals[0][1])"
   ]
  },
  {
   "cell_type": "code",
   "execution_count": null,
   "metadata": {},
   "outputs": [],
   "source": [
    "len(goodvals)"
   ]
  },
  {
   "cell_type": "code",
   "execution_count": null,
   "metadata": {
    "scrolled": false
   },
   "outputs": [],
   "source": [
    "plt.figure(figsize=(8,8))\n",
    "#plt.imshow(stars,cmap='Greys',extent=[0,256,0,256],aspect='auto')\n",
    "plt.plot(pts[0],nbins-pts[1],'.',markersize=2)\n",
    "\n",
    "\n",
    "for count,center in enumerate(goodvals):\n",
    "    \n",
    "    if count%10==0:\n",
    "        print(count)\n",
    "    #print(center)\n",
    "    cch = center[0][0]\n",
    "    ccw = center[0][1]\n",
    "    cat_filter=center[1]\n",
    "    subset = center[2]\n",
    "    #print(cch,ccw)\n",
    "    \n",
    "    #x = np.linspace(ccx-f,ccx+fsized2,25)\n",
    "    #yp = np.sqrt(r2-(x-ccx)**2) + ccy\n",
    "    #ym = -np.sqrt(r2-(x-ccx)**2) + ccy\n",
    "\n",
    "    #plt.plot(x,yp,'y-')\n",
    "    #plt.plot(x,ym,'y-')\n",
    "    #print(cat_filter)\n",
    "    h,w = cat_filter.shape[0:2]\n",
    "\n",
    "\n",
    "    #plt.plot([ccw],[cch],'r.',markersize=1)\n",
    "    #plt.imshow(cat_filter,cmap='Greys')\n",
    "    #print(cat_filter.shape)\n",
    "    temp_filter = np.zeros((skyh,skyw))\n",
    "    temp_stars = np.zeros((skyh,skyw))\n",
    "    \n",
    "    product = cat_filter*subset\n",
    "    temp_product = np.zeros((skyh,skyw))\n",
    "\n",
    "    for i in range(h):\n",
    "        for j in range(w):\n",
    "            temp_filter[i+cch][j+ccw] = cat_filter[i][j]\n",
    "            temp_stars[i+cch][j+ccw] = subset[i][j]\n",
    "            temp_product[i+cch][j+ccw] = product[i][j]\n",
    "    print(temp_product)\n",
    "\n",
    "    size = temp_product.shape\n",
    "    print(size)\n",
    "\n",
    "    xpts = []\n",
    "    ypts = []\n",
    "    for i in range(size[0]):\n",
    "        for j in range(size[1]):\n",
    "            if temp_product[i][j]>0:\n",
    "                xpts.append(j)\n",
    "                ypts.append(i)\n",
    "\n",
    "    #plt.imshow(temp_stars,alpha=1.0,cmap='Reds')\n",
    "    plt.imshow(temp_filter,alpha=0.1,cmap='Greys')\n",
    "    #plt.imshow(temp_product,alpha=0.8,cmap='Reds')\n",
    "    plt.plot(xpts,ypts,'r.',markersize=2,alpha=0)\n",
    "    \n",
    "\n",
    "plt.tight_layout()\n",
    "plt.savefig(\"cats_in_space_DEFAULT.png\")\n"
   ]
  },
  {
   "cell_type": "code",
   "execution_count": null,
   "metadata": {},
   "outputs": [],
   "source": [
    "size = temp_product.shape\n",
    "print(size)\n",
    "\n",
    "xpts = []\n",
    "ypts = []\n",
    "for i in range(size[0]):\n",
    "    for j in range(size[1]):\n",
    "        if temp_product[j][i]>0:\n",
    "            xpts.append(i)\n",
    "            ypts.append(j)"
   ]
  },
  {
   "cell_type": "code",
   "execution_count": null,
   "metadata": {},
   "outputs": [],
   "source": [
    "plt.plot(xpts,ypts,'.')"
   ]
  },
  {
   "cell_type": "code",
   "execution_count": null,
   "metadata": {
    "collapsed": true
   },
   "outputs": [],
   "source": []
  },
  {
   "cell_type": "code",
   "execution_count": null,
   "metadata": {
    "collapsed": true
   },
   "outputs": [],
   "source": []
  }
 ],
 "metadata": {
  "kernelspec": {
   "display_name": "Python 3",
   "language": "python",
   "name": "python3"
  },
  "language_info": {
   "codemirror_mode": {
    "name": "ipython",
    "version": 3
   },
   "file_extension": ".py",
   "mimetype": "text/x-python",
   "name": "python",
   "nbconvert_exporter": "python",
   "pygments_lexer": "ipython3",
   "version": "3.6.3"
  }
 },
 "nbformat": 4,
 "nbformat_minor": 2
}
